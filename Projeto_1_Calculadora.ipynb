{
  "nbformat": 4,
  "nbformat_minor": 0,
  "metadata": {
    "colab": {
      "provenance": [],
      "authorship_tag": "ABX9TyMQBSr2CQIsYByvYjAGYhjj",
      "include_colab_link": true
    },
    "kernelspec": {
      "name": "python3",
      "display_name": "Python 3"
    },
    "language_info": {
      "name": "python"
    }
  },
  "cells": [
    {
      "cell_type": "markdown",
      "metadata": {
        "id": "view-in-github",
        "colab_type": "text"
      },
      "source": [
        "<a href=\"https://colab.research.google.com/github/mapithe/curso-ebac/blob/main/Projeto_1_Calculadora.ipynb\" target=\"_parent\"><img src=\"https://colab.research.google.com/assets/colab-badge.svg\" alt=\"Open In Colab\"/></a>"
      ]
    },
    {
      "cell_type": "code",
      "execution_count": null,
      "metadata": {
        "id": "K_42V838cSmc"
      },
      "outputs": [],
      "source": []
    },
    {
      "cell_type": "markdown",
      "source": [
        "Instruções:\n",
        "Passo a passo:\n",
        "\n",
        "Utilize o comando 'input' para receber ao menos 2 números de entrada do usuário;\n",
        "\n",
        "Converta os valores recebidos pelo usuário para número inteiro (int) ou ponto flutuante (float);\n",
        "\n",
        "Implemente ao menos 4 operações matemáticas em seu código;\n",
        "\n",
        "Adicione um laço de repetição ou uma condicional. Por exemplo: você pode permitir que o usuário escolha qual operação realizar ou criar um loop que permita ao usuário realizar várias operações consecutivas;\n",
        "\n",
        "Utilize o comando 'print' para exibir o resultado da operação matemática."
      ],
      "metadata": {
        "id": "dDRBgLCOcVXb"
      }
    },
    {
      "cell_type": "code",
      "source": [
        "print('Olá! Bem-vindo à calculadora')"
      ],
      "metadata": {
        "colab": {
          "base_uri": "https://localhost:8080/"
        },
        "id": "Jc_3hn7qxcOD",
        "outputId": "80c9b1ff-3b63-4544-ce76-3fe304663ddb"
      },
      "execution_count": null,
      "outputs": [
        {
          "output_type": "stream",
          "name": "stdout",
          "text": [
            "Olá! Bem-vindo à calculadora\n"
          ]
        }
      ]
    },
    {
      "cell_type": "code",
      "source": [
        "num1 = float(input('Digite o primeiro número (x) '))"
      ],
      "metadata": {
        "colab": {
          "base_uri": "https://localhost:8080/"
        },
        "id": "SkQX2bn_x5Bc",
        "outputId": "88dcd461-bf69-41e1-9127-cb2aa013fc37"
      },
      "execution_count": null,
      "outputs": [
        {
          "name": "stdout",
          "output_type": "stream",
          "text": [
            "Digite o primeiro número (x) 5\n"
          ]
        }
      ]
    },
    {
      "cell_type": "code",
      "source": [
        "num2 = float(input('Digite o segundo número (y) '))"
      ],
      "metadata": {
        "colab": {
          "base_uri": "https://localhost:8080/"
        },
        "id": "NV_TILfbyap1",
        "outputId": "fa0b40cb-0798-4f21-d6d0-8f7d28abd88f"
      },
      "execution_count": null,
      "outputs": [
        {
          "name": "stdout",
          "output_type": "stream",
          "text": [
            "Digite o segundo número (y) 3\n"
          ]
        }
      ]
    },
    {
      "cell_type": "code",
      "source": [
        "print('Escolha a operação a ser realizada: (1) Adição, (2) Subtração, (3) Multiplicação ou (4) Divisão')\n",
        "operacao = input()"
      ],
      "metadata": {
        "colab": {
          "base_uri": "https://localhost:8080/"
        },
        "id": "KgId5hDF2qgj",
        "outputId": "d9401e27-9dc2-48f7-d834-38207fefaf8f"
      },
      "execution_count": null,
      "outputs": [
        {
          "name": "stdout",
          "output_type": "stream",
          "text": [
            "Escolha a operação a ser realizada: (1) Adição, (2) Subtração, (3) Multiplicação ou (4) Divisão\n",
            "3\n"
          ]
        }
      ]
    },
    {
      "cell_type": "code",
      "source": [
        "if operacao == '1':\n",
        "  print('Adição (x+y) = ',num1+num2)\n",
        "elif operacao == '2':\n",
        "  print('Subtração (x-y) = ',num1-num2)\n",
        "elif operacao =='3':\n",
        "  print('Multiplicação (x*y) = ',num1*num2)\n",
        "elif operacao == '4':\n",
        "  print('Divisão (x/y) = ',num1/num2)\n",
        "else: print('Escolha uma opção válida')"
      ],
      "metadata": {
        "colab": {
          "base_uri": "https://localhost:8080/"
        },
        "id": "R-zvj_-33DQS",
        "outputId": "d863f754-bd2a-4cc0-9f9b-eb9697ca01cf"
      },
      "execution_count": null,
      "outputs": [
        {
          "output_type": "stream",
          "name": "stdout",
          "text": [
            "Multiplicação (x*y) =  15.0\n"
          ]
        }
      ]
    }
  ]
}